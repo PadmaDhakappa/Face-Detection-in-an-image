{
  "nbformat": 4,
  "nbformat_minor": 0,
  "metadata": {
    "colab": {
      "provenance": []
    },
    "kernelspec": {
      "name": "python3",
      "display_name": "Python 3"
    },
    "language_info": {
      "name": "python"
    }
  },
  "cells": [
    {
      "cell_type": "code",
      "execution_count": 29,
      "metadata": {
        "id": "uq58HLaLOxuy"
      },
      "outputs": [],
      "source": [
        "import cv2"
      ]
    },
    {
      "cell_type": "code",
      "source": [
        "face_cascade=cv2.CascadeClassifier('/content/haarcascade_frontalface_default.xml')"
      ],
      "metadata": {
        "id": "1UHSi0-hPl8e"
      },
      "execution_count": 30,
      "outputs": []
    },
    {
      "cell_type": "code",
      "source": [
        "image=cv2.imread(\"/content/friends.JPG\")"
      ],
      "metadata": {
        "id": "WlsxOYeiP6Rr"
      },
      "execution_count": 31,
      "outputs": []
    },
    {
      "cell_type": "code",
      "source": [
        "faces=face_cascade.detectMultiScale(image,1.1,4)"
      ],
      "metadata": {
        "id": "Sfb0-ai6SSp1"
      },
      "execution_count": 32,
      "outputs": []
    },
    {
      "cell_type": "code",
      "source": [
        "for (x,y,w,h) in faces:\n",
        "  cv2.rectangle(image,(x,y),(x+w,y+h),(255,0,0),2)"
      ],
      "metadata": {
        "id": "mwct6MI7SpJw"
      },
      "execution_count": 33,
      "outputs": []
    },
    {
      "cell_type": "code",
      "source": [
        "cv2.imwrite('FaceDetected.jpg',image)\n",
        "print(\"Yay! Successfully detected faces\")"
      ],
      "metadata": {
        "colab": {
          "base_uri": "https://localhost:8080/"
        },
        "id": "3IxS4qMaTNHh",
        "outputId": "469f66c2-bbe3-4c6e-8f47-aa6eb5cec980"
      },
      "execution_count": 34,
      "outputs": [
        {
          "output_type": "stream",
          "name": "stdout",
          "text": [
            "Yay! Successfully detected faces\n"
          ]
        }
      ]
    }
  ]
}